{
 "cells": [
  {
   "cell_type": "code",
   "execution_count": 29,
   "metadata": {},
   "outputs": [],
   "source": [
    "import json\n",
    "import sys\n",
    "\n",
    "sys.path.append('..')\n",
    "from mutability.domain import Queries\n",
    "from utils.data_handling import *\n",
    "from utils.f1_score import compute_score\n",
    "\n",
    "from transformers import AutoTokenizer"
   ]
  },
  {
   "cell_type": "code",
   "execution_count": 2,
   "metadata": {},
   "outputs": [],
   "source": [
    "def evaluate(data, predictions, target_mode, prediction_mode):\n",
    "    # compute F1 as max across any alias for any answer for the most recent, most frequent, or specific-year answer\n",
    "    qa_targets, qa_predictions = [], []\n",
    "    for query in data:\n",
    "        target = query.get_relevant_target(target_mode)\n",
    "        if target is None:\n",
    "            continue\n",
    "        prediction = get_prediction(predictions, query.id, prediction_mode)\n",
    "        # if not len(prediction['answer']):\n",
    "        #    continue\n",
    "        qa_targets.append(\n",
    "            {\n",
    "                \"answers\": {\"answer_start\": [0] * len(target), \"text\": target},\n",
    "                \"id\": query.id,\n",
    "            }\n",
    "        )\n",
    "        qa_predictions.append({\"prediction_text\": prediction[\"answer\"], \"id\": query.id})\n",
    "\n",
    "    print(\"Evaluating on {} datapoints\".format(len(qa_targets)))\n",
    "    return compute_score(predictions=qa_predictions, references=qa_targets)"
   ]
  },
  {
   "cell_type": "code",
   "execution_count": 3,
   "metadata": {},
   "outputs": [
    {
     "data": {
      "text/plain": [
       "Gianluigi Buffon plays for _X_.\n",
       "(2010)\tJuventus FC\n",
       "(2010)\tItaly national association football team\n",
       "(2011)\tJuventus FC\n",
       "(2011)\tItaly national association football team\n",
       "(2012)\tJuventus FC\n",
       "(2012)\tItaly national association football team\n",
       "(2013)\tJuventus FC\n",
       "(2013)\tItaly national association football team\n",
       "(2014)\tJuventus FC\n",
       "(2014)\tItaly national association football team\n",
       "(2015)\tJuventus FC\n",
       "(2015)\tItaly national association football team\n",
       "(2016)\tJuventus FC\n",
       "(2016)\tItaly national association football team\n",
       "(2017)\tJuventus FC\n",
       "(2017)\tItaly national association football team\n",
       "(2018)\tJuventus FC\n",
       "(2018)\tParis Saint-Germain\n",
       "(2018)\tItaly national association football team\n",
       "(2019)\tJuventus FC\n",
       "(2019)\tParis Saint-Germain\n",
       "(2020)\tJuventus FC"
      ]
     },
     "execution_count": 3,
     "metadata": {},
     "output_type": "execute_result"
    }
   ],
   "source": [
    "data_path = '../data/templama/val.json'\n",
    "data = build_dataset(data_path)\n",
    "data['Q68060_P54']"
   ]
  },
  {
   "cell_type": "code",
   "execution_count": 8,
   "metadata": {},
   "outputs": [],
   "source": [
    "target_mode = 'most_recent'\n",
    "prediction_mode = 'perplexity'"
   ]
  },
  {
   "cell_type": "markdown",
   "metadata": {},
   "source": [
    "## Flan-T5"
   ]
  },
  {
   "cell_type": "code",
   "execution_count": 40,
   "metadata": {},
   "outputs": [],
   "source": [
    "tokenizer = AutoTokenizer.from_pretrained(\"google/flan-t5-xxl\")"
   ]
  },
  {
   "cell_type": "code",
   "execution_count": 9,
   "metadata": {},
   "outputs": [
    {
     "data": {
      "text/plain": [
       "{'query': 'Gianluigi Buffon plays for',\n",
       " 'predictions': [{'answer': 'Juventus',\n",
       "   'per_token_probability': [0.83056640625],\n",
       "   'first_token_probability': 0.83056640625,\n",
       "   'perplexity': 1.203997648442093}]}"
      ]
     },
     "execution_count": 9,
     "metadata": {},
     "output_type": "execute_result"
    }
   ],
   "source": [
    "predictions_path = '../fm_predictions/yesi-val--google-flan-t5-xxl/predictions.json'\n",
    "predictions = load_predictions(predictions_path)\n",
    "predictions['Q68060_P54']"
   ]
  },
  {
   "cell_type": "code",
   "execution_count": 10,
   "metadata": {},
   "outputs": [
    {
     "name": "stdout",
     "output_type": "stream",
     "text": [
      "Evaluating on 539 datapoints\n",
      "F1:  7.707912903206333\n"
     ]
    }
   ],
   "source": [
    "scores = evaluate(data, predictions, target_mode, prediction_mode)\n",
    "print('F1: ', scores['ave_f1'])"
   ]
  },
  {
   "cell_type": "code",
   "execution_count": 47,
   "metadata": {},
   "outputs": [
    {
     "name": "stdout",
     "output_type": "stream",
     "text": [
      "Evaluating on 6 datapoints\n",
      "F1:  16.666666666666668\n"
     ]
    }
   ],
   "source": [
    "mydata = dict()\n",
    "for key, query in data.queries.items():\n",
    "    target = query.get_relevant_target(target_mode)[0]\n",
    "    tok_target = tokenizer(target).input_ids\n",
    "    tok_target = tokenizer.convert_ids_to_tokens(tok_target, skip_special_tokens=True)\n",
    "    if len(tok_target) == 1:\n",
    "        mydata[key] = query\n",
    "mydata = Queries(mydata)\n",
    "\n",
    "mypreds = {k: v for k, v in predictions.items() if k in mydata.queries}\n",
    "\n",
    "len(data.queries), len(mydata.queries), len(mypreds)\n",
    "\n",
    "scores = evaluate(mydata, mypreds, target_mode, prediction_mode)\n",
    "print('F1: ', scores['ave_f1'])"
   ]
  },
  {
   "cell_type": "code",
   "execution_count": null,
   "metadata": {},
   "outputs": [],
   "source": []
  }
 ],
 "metadata": {
  "kernelspec": {
   "display_name": "fact_mutability",
   "language": "python",
   "name": "python3"
  },
  "language_info": {
   "codemirror_mode": {
    "name": "ipython",
    "version": 3
   },
   "file_extension": ".py",
   "mimetype": "text/x-python",
   "name": "python",
   "nbconvert_exporter": "python",
   "pygments_lexer": "ipython3",
   "version": "3.9.9"
  },
  "orig_nbformat": 4
 },
 "nbformat": 4,
 "nbformat_minor": 2
}
